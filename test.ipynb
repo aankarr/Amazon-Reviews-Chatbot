{
 "cells": [
  {
   "cell_type": "code",
   "execution_count": 3,
   "metadata": {
    "tags": []
   },
   "outputs": [],
   "source": [
    "from transformers import AutoTokenizer, AutoModelForCausalLM\n",
    "import torch"
   ]
  },
  {
   "cell_type": "code",
   "execution_count": 76,
   "metadata": {
    "tags": []
   },
   "outputs": [],
   "source": [
    "tokenizer = AutoTokenizer.from_pretrained(\"/scratch/bchk/kbengani/Amazon-Reviews-Chatbot/results/checkpoint-5000\", padding_side=\"left\")\n",
    "model = AutoModelForCausalLM.from_pretrained(\n",
    "        \"/scratch/bchk/kbengani/Amazon-Reviews-Chatbot/results/checkpoint-4000\",\n",
    "        torch_dtype=torch.bfloat16,\n",
    "        # attn_implementation=\"flash_attention_2\"\n",
    "    ).to(\"cuda\")"
   ]
  },
  {
   "cell_type": "code",
   "execution_count": 84,
   "metadata": {
    "tags": []
   },
   "outputs": [
    {
     "name": "stdout",
     "output_type": "stream",
     "text": [
      "Question: What is one bad thing about Final Fantasy VII: Remake - PlayStation 4\n",
      "Answer: I bought this game as a birthday gift, and I've only played it a couple of times, but I think I'll try to get it again. But it is not the best game ever for me, but it is a great game. The graphics are also great. The story is good, but I can't really see any real replay value. I can't think of a reason why it\n"
     ]
    }
   ],
   "source": [
    "example_inputs = tokenizer([\"Question: What is one bad thing about Final Fantasy VII: Remake - PlayStation 4\\nAnswer:\"], return_tensors=\"pt\").to(model.device)\n",
    "example_outputs = model.generate(\n",
    "    **example_inputs, \n",
    "    max_length=100,\n",
    "    temperature=0.7,\n",
    "    do_sample=True,\n",
    "    use_cache=True,\n",
    "    pad_token_id=tokenizer.eos_token_id)\n",
    "output_text = tokenizer.decode(example_outputs[0])\n",
    "print(output_text)"
   ]
  },
  {
   "cell_type": "code",
   "execution_count": null,
   "metadata": {},
   "outputs": [],
   "source": []
  }
 ],
 "metadata": {
  "kernelspec": {
   "display_name": "venv",
   "language": "python",
   "name": "venv"
  },
  "language_info": {
   "codemirror_mode": {
    "name": "ipython",
    "version": 3
   },
   "file_extension": ".py",
   "mimetype": "text/x-python",
   "name": "python",
   "nbconvert_exporter": "python",
   "pygments_lexer": "ipython3",
   "version": "3.9.18"
  }
 },
 "nbformat": 4,
 "nbformat_minor": 4
}
