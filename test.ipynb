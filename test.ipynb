{
 "cells": [
  {
   "cell_type": "code",
   "execution_count": 1,
   "metadata": {},
   "outputs": [],
   "source": [
    "from datasets import load_dataset"
   ]
  },
  {
   "cell_type": "code",
   "execution_count": 5,
   "metadata": {},
   "outputs": [
    {
     "data": {
      "application/vnd.jupyter.widget-view+json": {
       "model_id": "60b0f41d396847bca61bdd999bab0ddf",
       "version_major": 2,
       "version_minor": 0
      },
      "text/plain": [
       "Video_Games.jsonl:   0%|          | 0.00/2.68G [00:00<?, ?B/s]"
      ]
     },
     "metadata": {},
     "output_type": "display_data"
    },
    {
     "data": {
      "application/vnd.jupyter.widget-view+json": {
       "model_id": "01b8301ee15c475ebaec76e38c0bcfae",
       "version_major": 2,
       "version_minor": 0
      },
      "text/plain": [
       "Generating full split: 0 examples [00:00, ? examples/s]"
      ]
     },
     "metadata": {},
     "output_type": "display_data"
    },
    {
     "data": {
      "text/plain": [
       "DatasetDict({\n",
       "    full: Dataset({\n",
       "        features: ['rating', 'title', 'text', 'images', 'asin', 'parent_asin', 'user_id', 'timestamp', 'helpful_vote', 'verified_purchase'],\n",
       "        num_rows: 4624615\n",
       "    })\n",
       "})"
      ]
     },
     "execution_count": 5,
     "metadata": {},
     "output_type": "execute_result"
    }
   ],
   "source": [
    "dataset = load_dataset(\"McAuley-Lab/Amazon-Reviews-2023\", \"raw_review_Video_Games\", trust_remote_code=True)\n",
    "dataset"
   ]
  },
  {
   "cell_type": "code",
   "execution_count": null,
   "metadata": {},
   "outputs": [],
   "source": [
    "# from transformers import AutoConfig, AutoModelForCausalLM, AutoTokenizer,\n",
    "\n",
    "# class args:\n",
    "#     model_name_or_path = \"EleutherAI/gpt-neo-125m\"\n",
    "#     cache_dir = \"./cache/\"\n",
    "#     model_revision = \"main\"\n",
    "#     use_fast_tokenizer = True\n",
    "\n",
    "# config = AutoConfig.from_pretrained(\n",
    "#     args.model_name_or_path,\n",
    "#     cache_dir=args.cache_dir,\n",
    "#     revision=args.model_revision,\n",
    "#     use_auth_token=None,\n",
    "# )\n",
    "# tokenizer = AutoTokenizer.from_pretrained(\n",
    "#     args.model_name_or_path,\n",
    "#     cache_dir=args.cache_dir,\n",
    "#     use_fast=args.use_fast_tokenizer,\n",
    "#     revision=args.model_revision,\n",
    "#     use_auth_token=None,\n",
    "# )\n",
    "# model = AutoModelForSeq2SeqLM.from_pretrained(\n",
    "#     args.model_name_or_path,\n",
    "#     from_tf=bool(\".ckpt\" in args.model_name_or_path),\n",
    "#     config=config,\n",
    "#     cache_dir=args.cache_dir,\n",
    "#     revision=args.model_revision,\n",
    "#     use_auth_token=None,\n",
    "# )\n"
   ]
  }
 ],
 "metadata": {
  "kernelspec": {
   "display_name": "Python 3",
   "language": "python",
   "name": "python3"
  },
  "language_info": {
   "codemirror_mode": {
    "name": "ipython",
    "version": 3
   },
   "file_extension": ".py",
   "mimetype": "text/x-python",
   "name": "python",
   "nbconvert_exporter": "python",
   "pygments_lexer": "ipython3",
   "version": "3.8.20"
  }
 },
 "nbformat": 4,
 "nbformat_minor": 2
}
